{
 "cells": [
  {
   "cell_type": "code",
   "execution_count": 28,
   "metadata": {},
   "outputs": [],
   "source": [
    "import pandas as pd\n",
    "\n",
    "# enter the target csv\n",
    "df = pd.read_csv(r'c:\\Users\\eitan\\OneDrive\\Desktop\\Work Documents\\TESS Research\\count_transients_until_77.csv')\n",
    "\n",
    "# keeps only unclassified types\n",
    "df = df[df['type'] == 'Unclassified']\n",
    "\n",
    "\n",
    "df['#sector'] = df['#sector'].apply(lambda x: f'{x:02}' if x < 10 else x)\n",
    "\n",
    "\n",
    "df['image'] = df.apply(lambda row: f'https://tess.mit.edu/public/tesstransients/images/sector{row[\"#sector\"]}/lc_{row[\"name\"]}_cleaned.png', axis=1)\n",
    "\n",
    "# save destination\n",
    "df.to_csv('modified2_file.csv', index=False)\n",
    "\n",
    "\n"
   ]
  }
 ],
 "metadata": {
  "kernelspec": {
   "display_name": "base",
   "language": "python",
   "name": "python3"
  },
  "language_info": {
   "codemirror_mode": {
    "name": "ipython",
    "version": 3
   },
   "file_extension": ".py",
   "mimetype": "text/x-python",
   "name": "python",
   "nbconvert_exporter": "python",
   "pygments_lexer": "ipython3",
   "version": "3.11.7"
  }
 },
 "nbformat": 4,
 "nbformat_minor": 2
}
